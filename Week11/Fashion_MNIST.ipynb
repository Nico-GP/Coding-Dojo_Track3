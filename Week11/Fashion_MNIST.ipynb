{
  "nbformat": 4,
  "nbformat_minor": 0,
  "metadata": {
    "colab": {
      "name": "Fashion_MNIST",
      "provenance": [],
      "collapsed_sections": [],
      "authorship_tag": "ABX9TyOEUYZ5Mr0wBEoEHFe05yyj",
      "include_colab_link": true
    },
    "kernelspec": {
      "name": "python3",
      "display_name": "Python 3"
    },
    "language_info": {
      "name": "python"
    }
  },
  "cells": [
    {
      "cell_type": "markdown",
      "metadata": {
        "id": "view-in-github",
        "colab_type": "text"
      },
      "source": [
        "<a href=\"https://colab.research.google.com/github/Nico-GP/Coding-Dojo_Track3/blob/main/Week11/Fashion_MNIST.ipynb\" target=\"_parent\"><img src=\"https://colab.research.google.com/assets/colab-badge.svg\" alt=\"Open In Colab\"/></a>"
      ]
    },
    {
      "cell_type": "markdown",
      "source": [
        "# **CODING DOJO**: Fashion MNIST\n",
        "## Creado por: Nicolas Gonzalez\n",
        "### Descripcion: Clasificacion de prendas de vestir con RNC\n",
        "* Creado: 13/03/22\n",
        "* Ultima Actualizacion: 13/03/22"
      ],
      "metadata": {
        "id": "fJbgs2d6rero"
      }
    },
    {
      "cell_type": "code",
      "source": [
        "from google.colab import drive\n",
        "drive.mount('/content/drive')"
      ],
      "metadata": {
        "colab": {
          "base_uri": "https://localhost:8080/"
        },
        "id": "BJ0CnsRerwqS",
        "outputId": "c61871d7-80c6-4789-dd71-bb7dfb198e53"
      },
      "execution_count": 71,
      "outputs": [
        {
          "output_type": "stream",
          "name": "stdout",
          "text": [
            "Drive already mounted at /content/drive; to attempt to forcibly remount, call drive.mount(\"/content/drive\", force_remount=True).\n"
          ]
        }
      ]
    },
    {
      "cell_type": "markdown",
      "source": [
        "Base de datos de entrenamiento"
      ],
      "metadata": {
        "id": "7KxGOhDi8RMG"
      }
    },
    {
      "cell_type": "code",
      "source": [
        "import pandas as pd\n",
        "train = pd.read_csv('/content/drive/My Drive/CodingDojo/Week11/fashion-mnist_train.csv')\n",
        "train.head()"
      ],
      "metadata": {
        "colab": {
          "base_uri": "https://localhost:8080/",
          "height": 299
        },
        "id": "rR_s7j9Jr6zt",
        "outputId": "95dabce5-2386-41d1-db19-6d4d225e7bba"
      },
      "execution_count": 72,
      "outputs": [
        {
          "output_type": "execute_result",
          "data": {
            "text/plain": [
              "   label  pixel1  pixel2  pixel3  pixel4  pixel5  pixel6  pixel7  pixel8  \\\n",
              "0      2       0       0       0       0       0       0       0       0   \n",
              "1      9       0       0       0       0       0       0       0       0   \n",
              "2      6       0       0       0       0       0       0       0       5   \n",
              "3      0       0       0       0       1       2       0       0       0   \n",
              "4      3       0       0       0       0       0       0       0       0   \n",
              "\n",
              "   pixel9  ...  pixel775  pixel776  pixel777  pixel778  pixel779  pixel780  \\\n",
              "0       0  ...         0         0         0         0         0         0   \n",
              "1       0  ...         0         0         0         0         0         0   \n",
              "2       0  ...         0         0         0        30        43         0   \n",
              "3       0  ...         3         0         0         0         0         1   \n",
              "4       0  ...         0         0         0         0         0         0   \n",
              "\n",
              "   pixel781  pixel782  pixel783  pixel784  \n",
              "0         0         0         0         0  \n",
              "1         0         0         0         0  \n",
              "2         0         0         0         0  \n",
              "3         0         0         0         0  \n",
              "4         0         0         0         0  \n",
              "\n",
              "[5 rows x 785 columns]"
            ],
            "text/html": [
              "\n",
              "  <div id=\"df-371b8a70-01fa-44f9-8168-54dbc976ced4\">\n",
              "    <div class=\"colab-df-container\">\n",
              "      <div>\n",
              "<style scoped>\n",
              "    .dataframe tbody tr th:only-of-type {\n",
              "        vertical-align: middle;\n",
              "    }\n",
              "\n",
              "    .dataframe tbody tr th {\n",
              "        vertical-align: top;\n",
              "    }\n",
              "\n",
              "    .dataframe thead th {\n",
              "        text-align: right;\n",
              "    }\n",
              "</style>\n",
              "<table border=\"1\" class=\"dataframe\">\n",
              "  <thead>\n",
              "    <tr style=\"text-align: right;\">\n",
              "      <th></th>\n",
              "      <th>label</th>\n",
              "      <th>pixel1</th>\n",
              "      <th>pixel2</th>\n",
              "      <th>pixel3</th>\n",
              "      <th>pixel4</th>\n",
              "      <th>pixel5</th>\n",
              "      <th>pixel6</th>\n",
              "      <th>pixel7</th>\n",
              "      <th>pixel8</th>\n",
              "      <th>pixel9</th>\n",
              "      <th>...</th>\n",
              "      <th>pixel775</th>\n",
              "      <th>pixel776</th>\n",
              "      <th>pixel777</th>\n",
              "      <th>pixel778</th>\n",
              "      <th>pixel779</th>\n",
              "      <th>pixel780</th>\n",
              "      <th>pixel781</th>\n",
              "      <th>pixel782</th>\n",
              "      <th>pixel783</th>\n",
              "      <th>pixel784</th>\n",
              "    </tr>\n",
              "  </thead>\n",
              "  <tbody>\n",
              "    <tr>\n",
              "      <th>0</th>\n",
              "      <td>2</td>\n",
              "      <td>0</td>\n",
              "      <td>0</td>\n",
              "      <td>0</td>\n",
              "      <td>0</td>\n",
              "      <td>0</td>\n",
              "      <td>0</td>\n",
              "      <td>0</td>\n",
              "      <td>0</td>\n",
              "      <td>0</td>\n",
              "      <td>...</td>\n",
              "      <td>0</td>\n",
              "      <td>0</td>\n",
              "      <td>0</td>\n",
              "      <td>0</td>\n",
              "      <td>0</td>\n",
              "      <td>0</td>\n",
              "      <td>0</td>\n",
              "      <td>0</td>\n",
              "      <td>0</td>\n",
              "      <td>0</td>\n",
              "    </tr>\n",
              "    <tr>\n",
              "      <th>1</th>\n",
              "      <td>9</td>\n",
              "      <td>0</td>\n",
              "      <td>0</td>\n",
              "      <td>0</td>\n",
              "      <td>0</td>\n",
              "      <td>0</td>\n",
              "      <td>0</td>\n",
              "      <td>0</td>\n",
              "      <td>0</td>\n",
              "      <td>0</td>\n",
              "      <td>...</td>\n",
              "      <td>0</td>\n",
              "      <td>0</td>\n",
              "      <td>0</td>\n",
              "      <td>0</td>\n",
              "      <td>0</td>\n",
              "      <td>0</td>\n",
              "      <td>0</td>\n",
              "      <td>0</td>\n",
              "      <td>0</td>\n",
              "      <td>0</td>\n",
              "    </tr>\n",
              "    <tr>\n",
              "      <th>2</th>\n",
              "      <td>6</td>\n",
              "      <td>0</td>\n",
              "      <td>0</td>\n",
              "      <td>0</td>\n",
              "      <td>0</td>\n",
              "      <td>0</td>\n",
              "      <td>0</td>\n",
              "      <td>0</td>\n",
              "      <td>5</td>\n",
              "      <td>0</td>\n",
              "      <td>...</td>\n",
              "      <td>0</td>\n",
              "      <td>0</td>\n",
              "      <td>0</td>\n",
              "      <td>30</td>\n",
              "      <td>43</td>\n",
              "      <td>0</td>\n",
              "      <td>0</td>\n",
              "      <td>0</td>\n",
              "      <td>0</td>\n",
              "      <td>0</td>\n",
              "    </tr>\n",
              "    <tr>\n",
              "      <th>3</th>\n",
              "      <td>0</td>\n",
              "      <td>0</td>\n",
              "      <td>0</td>\n",
              "      <td>0</td>\n",
              "      <td>1</td>\n",
              "      <td>2</td>\n",
              "      <td>0</td>\n",
              "      <td>0</td>\n",
              "      <td>0</td>\n",
              "      <td>0</td>\n",
              "      <td>...</td>\n",
              "      <td>3</td>\n",
              "      <td>0</td>\n",
              "      <td>0</td>\n",
              "      <td>0</td>\n",
              "      <td>0</td>\n",
              "      <td>1</td>\n",
              "      <td>0</td>\n",
              "      <td>0</td>\n",
              "      <td>0</td>\n",
              "      <td>0</td>\n",
              "    </tr>\n",
              "    <tr>\n",
              "      <th>4</th>\n",
              "      <td>3</td>\n",
              "      <td>0</td>\n",
              "      <td>0</td>\n",
              "      <td>0</td>\n",
              "      <td>0</td>\n",
              "      <td>0</td>\n",
              "      <td>0</td>\n",
              "      <td>0</td>\n",
              "      <td>0</td>\n",
              "      <td>0</td>\n",
              "      <td>...</td>\n",
              "      <td>0</td>\n",
              "      <td>0</td>\n",
              "      <td>0</td>\n",
              "      <td>0</td>\n",
              "      <td>0</td>\n",
              "      <td>0</td>\n",
              "      <td>0</td>\n",
              "      <td>0</td>\n",
              "      <td>0</td>\n",
              "      <td>0</td>\n",
              "    </tr>\n",
              "  </tbody>\n",
              "</table>\n",
              "<p>5 rows × 785 columns</p>\n",
              "</div>\n",
              "      <button class=\"colab-df-convert\" onclick=\"convertToInteractive('df-371b8a70-01fa-44f9-8168-54dbc976ced4')\"\n",
              "              title=\"Convert this dataframe to an interactive table.\"\n",
              "              style=\"display:none;\">\n",
              "        \n",
              "  <svg xmlns=\"http://www.w3.org/2000/svg\" height=\"24px\"viewBox=\"0 0 24 24\"\n",
              "       width=\"24px\">\n",
              "    <path d=\"M0 0h24v24H0V0z\" fill=\"none\"/>\n",
              "    <path d=\"M18.56 5.44l.94 2.06.94-2.06 2.06-.94-2.06-.94-.94-2.06-.94 2.06-2.06.94zm-11 1L8.5 8.5l.94-2.06 2.06-.94-2.06-.94L8.5 2.5l-.94 2.06-2.06.94zm10 10l.94 2.06.94-2.06 2.06-.94-2.06-.94-.94-2.06-.94 2.06-2.06.94z\"/><path d=\"M17.41 7.96l-1.37-1.37c-.4-.4-.92-.59-1.43-.59-.52 0-1.04.2-1.43.59L10.3 9.45l-7.72 7.72c-.78.78-.78 2.05 0 2.83L4 21.41c.39.39.9.59 1.41.59.51 0 1.02-.2 1.41-.59l7.78-7.78 2.81-2.81c.8-.78.8-2.07 0-2.86zM5.41 20L4 18.59l7.72-7.72 1.47 1.35L5.41 20z\"/>\n",
              "  </svg>\n",
              "      </button>\n",
              "      \n",
              "  <style>\n",
              "    .colab-df-container {\n",
              "      display:flex;\n",
              "      flex-wrap:wrap;\n",
              "      gap: 12px;\n",
              "    }\n",
              "\n",
              "    .colab-df-convert {\n",
              "      background-color: #E8F0FE;\n",
              "      border: none;\n",
              "      border-radius: 50%;\n",
              "      cursor: pointer;\n",
              "      display: none;\n",
              "      fill: #1967D2;\n",
              "      height: 32px;\n",
              "      padding: 0 0 0 0;\n",
              "      width: 32px;\n",
              "    }\n",
              "\n",
              "    .colab-df-convert:hover {\n",
              "      background-color: #E2EBFA;\n",
              "      box-shadow: 0px 1px 2px rgba(60, 64, 67, 0.3), 0px 1px 3px 1px rgba(60, 64, 67, 0.15);\n",
              "      fill: #174EA6;\n",
              "    }\n",
              "\n",
              "    [theme=dark] .colab-df-convert {\n",
              "      background-color: #3B4455;\n",
              "      fill: #D2E3FC;\n",
              "    }\n",
              "\n",
              "    [theme=dark] .colab-df-convert:hover {\n",
              "      background-color: #434B5C;\n",
              "      box-shadow: 0px 1px 3px 1px rgba(0, 0, 0, 0.15);\n",
              "      filter: drop-shadow(0px 1px 2px rgba(0, 0, 0, 0.3));\n",
              "      fill: #FFFFFF;\n",
              "    }\n",
              "  </style>\n",
              "\n",
              "      <script>\n",
              "        const buttonEl =\n",
              "          document.querySelector('#df-371b8a70-01fa-44f9-8168-54dbc976ced4 button.colab-df-convert');\n",
              "        buttonEl.style.display =\n",
              "          google.colab.kernel.accessAllowed ? 'block' : 'none';\n",
              "\n",
              "        async function convertToInteractive(key) {\n",
              "          const element = document.querySelector('#df-371b8a70-01fa-44f9-8168-54dbc976ced4');\n",
              "          const dataTable =\n",
              "            await google.colab.kernel.invokeFunction('convertToInteractive',\n",
              "                                                     [key], {});\n",
              "          if (!dataTable) return;\n",
              "\n",
              "          const docLinkHtml = 'Like what you see? Visit the ' +\n",
              "            '<a target=\"_blank\" href=https://colab.research.google.com/notebooks/data_table.ipynb>data table notebook</a>'\n",
              "            + ' to learn more about interactive tables.';\n",
              "          element.innerHTML = '';\n",
              "          dataTable['output_type'] = 'display_data';\n",
              "          await google.colab.output.renderOutput(dataTable, element);\n",
              "          const docLink = document.createElement('div');\n",
              "          docLink.innerHTML = docLinkHtml;\n",
              "          element.appendChild(docLink);\n",
              "        }\n",
              "      </script>\n",
              "    </div>\n",
              "  </div>\n",
              "  "
            ]
          },
          "metadata": {},
          "execution_count": 72
        }
      ]
    },
    {
      "cell_type": "code",
      "source": [
        "train.info()"
      ],
      "metadata": {
        "colab": {
          "base_uri": "https://localhost:8080/"
        },
        "id": "JTf4S9j9s8Kd",
        "outputId": "8b156e97-5f96-4c77-9374-f9a0d4093c61"
      },
      "execution_count": 73,
      "outputs": [
        {
          "output_type": "stream",
          "name": "stdout",
          "text": [
            "<class 'pandas.core.frame.DataFrame'>\n",
            "RangeIndex: 60000 entries, 0 to 59999\n",
            "Columns: 785 entries, label to pixel784\n",
            "dtypes: int64(785)\n",
            "memory usage: 359.3 MB\n"
          ]
        }
      ]
    },
    {
      "cell_type": "code",
      "source": [
        "train.isnull().sum()"
      ],
      "metadata": {
        "colab": {
          "base_uri": "https://localhost:8080/"
        },
        "id": "74PfmQ6ctA8q",
        "outputId": "923f2215-b80c-4030-deb9-a4e2e06e376b"
      },
      "execution_count": 74,
      "outputs": [
        {
          "output_type": "execute_result",
          "data": {
            "text/plain": [
              "label       0\n",
              "pixel1      0\n",
              "pixel2      0\n",
              "pixel3      0\n",
              "pixel4      0\n",
              "           ..\n",
              "pixel780    0\n",
              "pixel781    0\n",
              "pixel782    0\n",
              "pixel783    0\n",
              "pixel784    0\n",
              "Length: 785, dtype: int64"
            ]
          },
          "metadata": {},
          "execution_count": 74
        }
      ]
    },
    {
      "cell_type": "markdown",
      "source": [
        "Base de datos de validacion"
      ],
      "metadata": {
        "id": "hKTrjTnU8T9B"
      }
    },
    {
      "cell_type": "code",
      "source": [
        "test = pd.read_csv('/content/drive/My Drive/CodingDojo/Week11/fashion-mnist_test.csv')\n",
        "test.head()"
      ],
      "metadata": {
        "colab": {
          "base_uri": "https://localhost:8080/",
          "height": 299
        },
        "id": "Cnxl2g-1swp5",
        "outputId": "5c858498-82ac-4bf1-a4cd-e57488bda815"
      },
      "execution_count": 75,
      "outputs": [
        {
          "output_type": "execute_result",
          "data": {
            "text/plain": [
              "   label  pixel1  pixel2  pixel3  pixel4  pixel5  pixel6  pixel7  pixel8  \\\n",
              "0      0       0       0       0       0       0       0       0       9   \n",
              "1      1       0       0       0       0       0       0       0       0   \n",
              "2      2       0       0       0       0       0       0      14      53   \n",
              "3      2       0       0       0       0       0       0       0       0   \n",
              "4      3       0       0       0       0       0       0       0       0   \n",
              "\n",
              "   pixel9  ...  pixel775  pixel776  pixel777  pixel778  pixel779  pixel780  \\\n",
              "0       8  ...       103        87        56         0         0         0   \n",
              "1       0  ...        34         0         0         0         0         0   \n",
              "2      99  ...         0         0         0         0        63        53   \n",
              "3       0  ...       137       126       140         0       133       224   \n",
              "4       0  ...         0         0         0         0         0         0   \n",
              "\n",
              "   pixel781  pixel782  pixel783  pixel784  \n",
              "0         0         0         0         0  \n",
              "1         0         0         0         0  \n",
              "2        31         0         0         0  \n",
              "3       222        56         0         0  \n",
              "4         0         0         0         0  \n",
              "\n",
              "[5 rows x 785 columns]"
            ],
            "text/html": [
              "\n",
              "  <div id=\"df-26863331-a7d6-4b53-a073-65b064a0bc3c\">\n",
              "    <div class=\"colab-df-container\">\n",
              "      <div>\n",
              "<style scoped>\n",
              "    .dataframe tbody tr th:only-of-type {\n",
              "        vertical-align: middle;\n",
              "    }\n",
              "\n",
              "    .dataframe tbody tr th {\n",
              "        vertical-align: top;\n",
              "    }\n",
              "\n",
              "    .dataframe thead th {\n",
              "        text-align: right;\n",
              "    }\n",
              "</style>\n",
              "<table border=\"1\" class=\"dataframe\">\n",
              "  <thead>\n",
              "    <tr style=\"text-align: right;\">\n",
              "      <th></th>\n",
              "      <th>label</th>\n",
              "      <th>pixel1</th>\n",
              "      <th>pixel2</th>\n",
              "      <th>pixel3</th>\n",
              "      <th>pixel4</th>\n",
              "      <th>pixel5</th>\n",
              "      <th>pixel6</th>\n",
              "      <th>pixel7</th>\n",
              "      <th>pixel8</th>\n",
              "      <th>pixel9</th>\n",
              "      <th>...</th>\n",
              "      <th>pixel775</th>\n",
              "      <th>pixel776</th>\n",
              "      <th>pixel777</th>\n",
              "      <th>pixel778</th>\n",
              "      <th>pixel779</th>\n",
              "      <th>pixel780</th>\n",
              "      <th>pixel781</th>\n",
              "      <th>pixel782</th>\n",
              "      <th>pixel783</th>\n",
              "      <th>pixel784</th>\n",
              "    </tr>\n",
              "  </thead>\n",
              "  <tbody>\n",
              "    <tr>\n",
              "      <th>0</th>\n",
              "      <td>0</td>\n",
              "      <td>0</td>\n",
              "      <td>0</td>\n",
              "      <td>0</td>\n",
              "      <td>0</td>\n",
              "      <td>0</td>\n",
              "      <td>0</td>\n",
              "      <td>0</td>\n",
              "      <td>9</td>\n",
              "      <td>8</td>\n",
              "      <td>...</td>\n",
              "      <td>103</td>\n",
              "      <td>87</td>\n",
              "      <td>56</td>\n",
              "      <td>0</td>\n",
              "      <td>0</td>\n",
              "      <td>0</td>\n",
              "      <td>0</td>\n",
              "      <td>0</td>\n",
              "      <td>0</td>\n",
              "      <td>0</td>\n",
              "    </tr>\n",
              "    <tr>\n",
              "      <th>1</th>\n",
              "      <td>1</td>\n",
              "      <td>0</td>\n",
              "      <td>0</td>\n",
              "      <td>0</td>\n",
              "      <td>0</td>\n",
              "      <td>0</td>\n",
              "      <td>0</td>\n",
              "      <td>0</td>\n",
              "      <td>0</td>\n",
              "      <td>0</td>\n",
              "      <td>...</td>\n",
              "      <td>34</td>\n",
              "      <td>0</td>\n",
              "      <td>0</td>\n",
              "      <td>0</td>\n",
              "      <td>0</td>\n",
              "      <td>0</td>\n",
              "      <td>0</td>\n",
              "      <td>0</td>\n",
              "      <td>0</td>\n",
              "      <td>0</td>\n",
              "    </tr>\n",
              "    <tr>\n",
              "      <th>2</th>\n",
              "      <td>2</td>\n",
              "      <td>0</td>\n",
              "      <td>0</td>\n",
              "      <td>0</td>\n",
              "      <td>0</td>\n",
              "      <td>0</td>\n",
              "      <td>0</td>\n",
              "      <td>14</td>\n",
              "      <td>53</td>\n",
              "      <td>99</td>\n",
              "      <td>...</td>\n",
              "      <td>0</td>\n",
              "      <td>0</td>\n",
              "      <td>0</td>\n",
              "      <td>0</td>\n",
              "      <td>63</td>\n",
              "      <td>53</td>\n",
              "      <td>31</td>\n",
              "      <td>0</td>\n",
              "      <td>0</td>\n",
              "      <td>0</td>\n",
              "    </tr>\n",
              "    <tr>\n",
              "      <th>3</th>\n",
              "      <td>2</td>\n",
              "      <td>0</td>\n",
              "      <td>0</td>\n",
              "      <td>0</td>\n",
              "      <td>0</td>\n",
              "      <td>0</td>\n",
              "      <td>0</td>\n",
              "      <td>0</td>\n",
              "      <td>0</td>\n",
              "      <td>0</td>\n",
              "      <td>...</td>\n",
              "      <td>137</td>\n",
              "      <td>126</td>\n",
              "      <td>140</td>\n",
              "      <td>0</td>\n",
              "      <td>133</td>\n",
              "      <td>224</td>\n",
              "      <td>222</td>\n",
              "      <td>56</td>\n",
              "      <td>0</td>\n",
              "      <td>0</td>\n",
              "    </tr>\n",
              "    <tr>\n",
              "      <th>4</th>\n",
              "      <td>3</td>\n",
              "      <td>0</td>\n",
              "      <td>0</td>\n",
              "      <td>0</td>\n",
              "      <td>0</td>\n",
              "      <td>0</td>\n",
              "      <td>0</td>\n",
              "      <td>0</td>\n",
              "      <td>0</td>\n",
              "      <td>0</td>\n",
              "      <td>...</td>\n",
              "      <td>0</td>\n",
              "      <td>0</td>\n",
              "      <td>0</td>\n",
              "      <td>0</td>\n",
              "      <td>0</td>\n",
              "      <td>0</td>\n",
              "      <td>0</td>\n",
              "      <td>0</td>\n",
              "      <td>0</td>\n",
              "      <td>0</td>\n",
              "    </tr>\n",
              "  </tbody>\n",
              "</table>\n",
              "<p>5 rows × 785 columns</p>\n",
              "</div>\n",
              "      <button class=\"colab-df-convert\" onclick=\"convertToInteractive('df-26863331-a7d6-4b53-a073-65b064a0bc3c')\"\n",
              "              title=\"Convert this dataframe to an interactive table.\"\n",
              "              style=\"display:none;\">\n",
              "        \n",
              "  <svg xmlns=\"http://www.w3.org/2000/svg\" height=\"24px\"viewBox=\"0 0 24 24\"\n",
              "       width=\"24px\">\n",
              "    <path d=\"M0 0h24v24H0V0z\" fill=\"none\"/>\n",
              "    <path d=\"M18.56 5.44l.94 2.06.94-2.06 2.06-.94-2.06-.94-.94-2.06-.94 2.06-2.06.94zm-11 1L8.5 8.5l.94-2.06 2.06-.94-2.06-.94L8.5 2.5l-.94 2.06-2.06.94zm10 10l.94 2.06.94-2.06 2.06-.94-2.06-.94-.94-2.06-.94 2.06-2.06.94z\"/><path d=\"M17.41 7.96l-1.37-1.37c-.4-.4-.92-.59-1.43-.59-.52 0-1.04.2-1.43.59L10.3 9.45l-7.72 7.72c-.78.78-.78 2.05 0 2.83L4 21.41c.39.39.9.59 1.41.59.51 0 1.02-.2 1.41-.59l7.78-7.78 2.81-2.81c.8-.78.8-2.07 0-2.86zM5.41 20L4 18.59l7.72-7.72 1.47 1.35L5.41 20z\"/>\n",
              "  </svg>\n",
              "      </button>\n",
              "      \n",
              "  <style>\n",
              "    .colab-df-container {\n",
              "      display:flex;\n",
              "      flex-wrap:wrap;\n",
              "      gap: 12px;\n",
              "    }\n",
              "\n",
              "    .colab-df-convert {\n",
              "      background-color: #E8F0FE;\n",
              "      border: none;\n",
              "      border-radius: 50%;\n",
              "      cursor: pointer;\n",
              "      display: none;\n",
              "      fill: #1967D2;\n",
              "      height: 32px;\n",
              "      padding: 0 0 0 0;\n",
              "      width: 32px;\n",
              "    }\n",
              "\n",
              "    .colab-df-convert:hover {\n",
              "      background-color: #E2EBFA;\n",
              "      box-shadow: 0px 1px 2px rgba(60, 64, 67, 0.3), 0px 1px 3px 1px rgba(60, 64, 67, 0.15);\n",
              "      fill: #174EA6;\n",
              "    }\n",
              "\n",
              "    [theme=dark] .colab-df-convert {\n",
              "      background-color: #3B4455;\n",
              "      fill: #D2E3FC;\n",
              "    }\n",
              "\n",
              "    [theme=dark] .colab-df-convert:hover {\n",
              "      background-color: #434B5C;\n",
              "      box-shadow: 0px 1px 3px 1px rgba(0, 0, 0, 0.15);\n",
              "      filter: drop-shadow(0px 1px 2px rgba(0, 0, 0, 0.3));\n",
              "      fill: #FFFFFF;\n",
              "    }\n",
              "  </style>\n",
              "\n",
              "      <script>\n",
              "        const buttonEl =\n",
              "          document.querySelector('#df-26863331-a7d6-4b53-a073-65b064a0bc3c button.colab-df-convert');\n",
              "        buttonEl.style.display =\n",
              "          google.colab.kernel.accessAllowed ? 'block' : 'none';\n",
              "\n",
              "        async function convertToInteractive(key) {\n",
              "          const element = document.querySelector('#df-26863331-a7d6-4b53-a073-65b064a0bc3c');\n",
              "          const dataTable =\n",
              "            await google.colab.kernel.invokeFunction('convertToInteractive',\n",
              "                                                     [key], {});\n",
              "          if (!dataTable) return;\n",
              "\n",
              "          const docLinkHtml = 'Like what you see? Visit the ' +\n",
              "            '<a target=\"_blank\" href=https://colab.research.google.com/notebooks/data_table.ipynb>data table notebook</a>'\n",
              "            + ' to learn more about interactive tables.';\n",
              "          element.innerHTML = '';\n",
              "          dataTable['output_type'] = 'display_data';\n",
              "          await google.colab.output.renderOutput(dataTable, element);\n",
              "          const docLink = document.createElement('div');\n",
              "          docLink.innerHTML = docLinkHtml;\n",
              "          element.appendChild(docLink);\n",
              "        }\n",
              "      </script>\n",
              "    </div>\n",
              "  </div>\n",
              "  "
            ]
          },
          "metadata": {},
          "execution_count": 75
        }
      ]
    },
    {
      "cell_type": "code",
      "source": [
        "test.info()"
      ],
      "metadata": {
        "colab": {
          "base_uri": "https://localhost:8080/"
        },
        "id": "tdnDyUA9s_hV",
        "outputId": "429666f6-a426-48c9-f9f8-70f8c202d850"
      },
      "execution_count": 76,
      "outputs": [
        {
          "output_type": "stream",
          "name": "stdout",
          "text": [
            "<class 'pandas.core.frame.DataFrame'>\n",
            "RangeIndex: 10000 entries, 0 to 9999\n",
            "Columns: 785 entries, label to pixel784\n",
            "dtypes: int64(785)\n",
            "memory usage: 59.9 MB\n"
          ]
        }
      ]
    },
    {
      "cell_type": "code",
      "source": [
        "test.isnull().sum()"
      ],
      "metadata": {
        "colab": {
          "base_uri": "https://localhost:8080/"
        },
        "id": "39xlOR7atEii",
        "outputId": "8c6e3bae-4b5f-4ac4-8753-39379e91122b"
      },
      "execution_count": 77,
      "outputs": [
        {
          "output_type": "execute_result",
          "data": {
            "text/plain": [
              "label       0\n",
              "pixel1      0\n",
              "pixel2      0\n",
              "pixel3      0\n",
              "pixel4      0\n",
              "           ..\n",
              "pixel780    0\n",
              "pixel781    0\n",
              "pixel782    0\n",
              "pixel783    0\n",
              "pixel784    0\n",
              "Length: 785, dtype: int64"
            ]
          },
          "metadata": {},
          "execution_count": 77
        }
      ]
    },
    {
      "cell_type": "code",
      "source": [
        "import numpy as np\n",
        "import matplotlib.pyplot as plt\n",
        "from sklearn.preprocessing import StandardScaler\n",
        "from sklearn.model_selection import train_test_split\n",
        "from sklearn.metrics import accuracy_score\n",
        "from tensorflow.keras.models import Sequential\n",
        "from tensorflow.keras.layers import Dense\n",
        "from tensorflow.keras.layers import Dropout\n",
        "from tensorflow.keras.layers import Flatten\n",
        "from tensorflow.keras.layers import Conv2D\n",
        "from tensorflow.keras.layers import MaxPooling2D\n",
        "from tensorflow.keras.utils import to_categorical"
      ],
      "metadata": {
        "id": "OgVoxf8ojImV"
      },
      "execution_count": 78,
      "outputs": []
    },
    {
      "cell_type": "markdown",
      "source": [
        "Se normaliza la matriz de caractersiticas"
      ],
      "metadata": {
        "id": "KMMmgPR88YkV"
      }
    },
    {
      "cell_type": "code",
      "source": [
        "X_train = train.drop(columns = 'label')/255\n",
        "X_val = test.drop(columns = 'label')/255\n",
        "y_train = train['label']\n",
        "y_val = test['label']"
      ],
      "metadata": {
        "id": "AZQtwBPVj568"
      },
      "execution_count": 79,
      "outputs": []
    },
    {
      "cell_type": "markdown",
      "source": [
        "Se dividen los datos de entrenamiento en entrenamiento y testeo"
      ],
      "metadata": {
        "id": "4fRV6DRA8cch"
      }
    },
    {
      "cell_type": "code",
      "source": [
        "X_train, X_test, y_train, y_test = train_test_split(X_train, y_train, random_state = 3)"
      ],
      "metadata": {
        "id": "ZGVHaNNQke0p"
      },
      "execution_count": 80,
      "outputs": []
    },
    {
      "cell_type": "markdown",
      "source": [
        "Se remodela la forma de los datos"
      ],
      "metadata": {
        "id": "g8sSxZGx8g0N"
      }
    },
    {
      "cell_type": "code",
      "source": [
        "X_train = np.array(X_train).reshape(X_train.shape[0], 28, 28, 1)\n",
        "X_test = np.array(X_test).reshape(X_test.shape[0], 28, 28, 1)"
      ],
      "metadata": {
        "id": "0Zpm0AuAk0fc"
      },
      "execution_count": 91,
      "outputs": []
    },
    {
      "cell_type": "markdown",
      "source": [
        "Se convierten a valorescategoricos"
      ],
      "metadata": {
        "id": "k3FZh7mI8sg6"
      }
    },
    {
      "cell_type": "code",
      "source": [
        "y_train = to_categorical(y_train, num_classes = 10)\n",
        "y_test = to_categorical(y_test, num_classes = 10)"
      ],
      "metadata": {
        "id": "h7q4kSG7mZwv"
      },
      "execution_count": 82,
      "outputs": []
    },
    {
      "cell_type": "markdown",
      "source": [
        "Forma de los datos"
      ],
      "metadata": {
        "id": "RHQ8Gi3i8xYa"
      }
    },
    {
      "cell_type": "code",
      "source": [
        "shape = X_train.shape[1 : 4]\n",
        "shape"
      ],
      "metadata": {
        "colab": {
          "base_uri": "https://localhost:8080/"
        },
        "id": "ATCk-Q3om3sZ",
        "outputId": "79abd287-e1b4-41d7-e44c-0ee5a9c7bcce"
      },
      "execution_count": 83,
      "outputs": [
        {
          "output_type": "execute_result",
          "data": {
            "text/plain": [
              "(28, 28, 1)"
            ]
          },
          "metadata": {},
          "execution_count": 83
        }
      ]
    },
    {
      "cell_type": "markdown",
      "source": [
        "Se crea el modelo"
      ],
      "metadata": {
        "id": "psuVSU_X8zZf"
      }
    },
    {
      "cell_type": "code",
      "source": [
        "model = Sequential()\n",
        "\n",
        "model.add(Conv2D(filters = 32, input_shape = shape, activation = 'relu', kernel_size = 3))\n",
        "\n",
        "model.add(MaxPooling2D(pool_size = 2))\n",
        "\n",
        "Dropout(0.2)\n",
        "\n",
        "model.add(Flatten())\n",
        "\n",
        "model.add(Dense(10, activation = 'softmax'))\n",
        "\n",
        "model.compile(loss = 'categorical_crossentropy', optimizer = 'adam', metrics = ['acc'])"
      ],
      "metadata": {
        "id": "gphD8bNqnfcM"
      },
      "execution_count": 84,
      "outputs": []
    },
    {
      "cell_type": "markdown",
      "source": [
        "Se ajustan los datos"
      ],
      "metadata": {
        "id": "1dKPG2_181kC"
      }
    },
    {
      "cell_type": "code",
      "source": [
        "history = model.fit(X_train, y_train,\n",
        "                    validation_data = (X_test, y_test),\n",
        "                    batch_size = 5000,\n",
        "                    epochs = 100)"
      ],
      "metadata": {
        "colab": {
          "base_uri": "https://localhost:8080/"
        },
        "id": "9I_S8DAwo2ol",
        "outputId": "03f28389-56dc-46c5-c982-6564e0531d9a"
      },
      "execution_count": 85,
      "outputs": [
        {
          "output_type": "stream",
          "name": "stdout",
          "text": [
            "Epoch 1/100\n",
            "9/9 [==============================] - 17s 2s/step - loss: 1.9743 - acc: 0.4606 - val_loss: 1.5536 - val_acc: 0.6573\n",
            "Epoch 2/100\n",
            "9/9 [==============================] - 15s 2s/step - loss: 1.2894 - acc: 0.6857 - val_loss: 1.0141 - val_acc: 0.7216\n",
            "Epoch 3/100\n",
            "9/9 [==============================] - 16s 2s/step - loss: 0.8923 - acc: 0.7327 - val_loss: 0.7691 - val_acc: 0.7537\n",
            "Epoch 4/100\n",
            "9/9 [==============================] - 16s 2s/step - loss: 0.7248 - acc: 0.7588 - val_loss: 0.6643 - val_acc: 0.7640\n",
            "Epoch 5/100\n",
            "9/9 [==============================] - 16s 2s/step - loss: 0.6485 - acc: 0.7741 - val_loss: 0.6065 - val_acc: 0.7848\n",
            "Epoch 6/100\n",
            "9/9 [==============================] - 16s 2s/step - loss: 0.5991 - acc: 0.7911 - val_loss: 0.5635 - val_acc: 0.8035\n",
            "Epoch 7/100\n",
            "9/9 [==============================] - 16s 2s/step - loss: 0.5600 - acc: 0.8075 - val_loss: 0.5304 - val_acc: 0.8139\n",
            "Epoch 8/100\n",
            "9/9 [==============================] - 16s 2s/step - loss: 0.5294 - acc: 0.8184 - val_loss: 0.5042 - val_acc: 0.8283\n",
            "Epoch 9/100\n",
            "9/9 [==============================] - 16s 2s/step - loss: 0.5041 - acc: 0.8289 - val_loss: 0.4841 - val_acc: 0.8323\n",
            "Epoch 10/100\n",
            "9/9 [==============================] - 16s 2s/step - loss: 0.4848 - acc: 0.8356 - val_loss: 0.4644 - val_acc: 0.8383\n",
            "Epoch 11/100\n",
            "9/9 [==============================] - 16s 2s/step - loss: 0.4657 - acc: 0.8421 - val_loss: 0.4505 - val_acc: 0.8442\n",
            "Epoch 12/100\n",
            "9/9 [==============================] - 16s 2s/step - loss: 0.4510 - acc: 0.8466 - val_loss: 0.4368 - val_acc: 0.8492\n",
            "Epoch 13/100\n",
            "9/9 [==============================] - 16s 2s/step - loss: 0.4380 - acc: 0.8510 - val_loss: 0.4256 - val_acc: 0.8525\n",
            "Epoch 14/100\n",
            "9/9 [==============================] - 16s 2s/step - loss: 0.4276 - acc: 0.8547 - val_loss: 0.4193 - val_acc: 0.8556\n",
            "Epoch 15/100\n",
            "9/9 [==============================] - 16s 2s/step - loss: 0.4183 - acc: 0.8574 - val_loss: 0.4082 - val_acc: 0.8603\n",
            "Epoch 16/100\n",
            "9/9 [==============================] - 16s 2s/step - loss: 0.4090 - acc: 0.8614 - val_loss: 0.4028 - val_acc: 0.8609\n",
            "Epoch 17/100\n",
            "9/9 [==============================] - 16s 2s/step - loss: 0.4014 - acc: 0.8622 - val_loss: 0.3951 - val_acc: 0.8638\n",
            "Epoch 18/100\n",
            "9/9 [==============================] - 16s 2s/step - loss: 0.3942 - acc: 0.8656 - val_loss: 0.3887 - val_acc: 0.8665\n",
            "Epoch 19/100\n",
            "9/9 [==============================] - 16s 2s/step - loss: 0.3888 - acc: 0.8684 - val_loss: 0.3864 - val_acc: 0.8672\n",
            "Epoch 20/100\n",
            "9/9 [==============================] - 16s 2s/step - loss: 0.3825 - acc: 0.8693 - val_loss: 0.3788 - val_acc: 0.8693\n",
            "Epoch 21/100\n",
            "9/9 [==============================] - 16s 2s/step - loss: 0.3777 - acc: 0.8711 - val_loss: 0.3789 - val_acc: 0.8694\n",
            "Epoch 22/100\n",
            "9/9 [==============================] - 16s 2s/step - loss: 0.3738 - acc: 0.8721 - val_loss: 0.3706 - val_acc: 0.8715\n",
            "Epoch 23/100\n",
            "9/9 [==============================] - 16s 2s/step - loss: 0.3686 - acc: 0.8736 - val_loss: 0.3686 - val_acc: 0.8717\n",
            "Epoch 24/100\n",
            "9/9 [==============================] - 15s 2s/step - loss: 0.3638 - acc: 0.8757 - val_loss: 0.3638 - val_acc: 0.8737\n",
            "Epoch 25/100\n",
            "9/9 [==============================] - 16s 2s/step - loss: 0.3602 - acc: 0.8768 - val_loss: 0.3642 - val_acc: 0.8741\n",
            "Epoch 26/100\n",
            "9/9 [==============================] - 15s 2s/step - loss: 0.3574 - acc: 0.8772 - val_loss: 0.3612 - val_acc: 0.8747\n",
            "Epoch 27/100\n",
            "9/9 [==============================] - 16s 2s/step - loss: 0.3531 - acc: 0.8789 - val_loss: 0.3557 - val_acc: 0.8771\n",
            "Epoch 28/100\n",
            "9/9 [==============================] - 16s 2s/step - loss: 0.3481 - acc: 0.8811 - val_loss: 0.3512 - val_acc: 0.8790\n",
            "Epoch 29/100\n",
            "9/9 [==============================] - 16s 2s/step - loss: 0.3446 - acc: 0.8820 - val_loss: 0.3492 - val_acc: 0.8805\n",
            "Epoch 30/100\n",
            "9/9 [==============================] - 15s 2s/step - loss: 0.3420 - acc: 0.8824 - val_loss: 0.3473 - val_acc: 0.8797\n",
            "Epoch 31/100\n",
            "9/9 [==============================] - 15s 2s/step - loss: 0.3392 - acc: 0.8836 - val_loss: 0.3444 - val_acc: 0.8809\n",
            "Epoch 32/100\n",
            "9/9 [==============================] - 15s 2s/step - loss: 0.3359 - acc: 0.8847 - val_loss: 0.3421 - val_acc: 0.8812\n",
            "Epoch 33/100\n",
            "9/9 [==============================] - 15s 2s/step - loss: 0.3325 - acc: 0.8862 - val_loss: 0.3386 - val_acc: 0.8833\n",
            "Epoch 34/100\n",
            "9/9 [==============================] - 15s 2s/step - loss: 0.3297 - acc: 0.8862 - val_loss: 0.3374 - val_acc: 0.8831\n",
            "Epoch 35/100\n",
            "9/9 [==============================] - 15s 2s/step - loss: 0.3274 - acc: 0.8879 - val_loss: 0.3346 - val_acc: 0.8846\n",
            "Epoch 36/100\n",
            "9/9 [==============================] - 15s 2s/step - loss: 0.3248 - acc: 0.8882 - val_loss: 0.3332 - val_acc: 0.8859\n",
            "Epoch 37/100\n",
            "9/9 [==============================] - 16s 2s/step - loss: 0.3221 - acc: 0.8886 - val_loss: 0.3309 - val_acc: 0.8863\n",
            "Epoch 38/100\n",
            "9/9 [==============================] - 15s 2s/step - loss: 0.3197 - acc: 0.8906 - val_loss: 0.3290 - val_acc: 0.8873\n",
            "Epoch 39/100\n",
            "9/9 [==============================] - 15s 2s/step - loss: 0.3174 - acc: 0.8906 - val_loss: 0.3280 - val_acc: 0.8873\n",
            "Epoch 40/100\n",
            "9/9 [==============================] - 15s 2s/step - loss: 0.3148 - acc: 0.8916 - val_loss: 0.3261 - val_acc: 0.8875\n",
            "Epoch 41/100\n",
            "9/9 [==============================] - 15s 2s/step - loss: 0.3132 - acc: 0.8924 - val_loss: 0.3267 - val_acc: 0.8879\n",
            "Epoch 42/100\n",
            "9/9 [==============================] - 16s 2s/step - loss: 0.3124 - acc: 0.8923 - val_loss: 0.3251 - val_acc: 0.8873\n",
            "Epoch 43/100\n",
            "9/9 [==============================] - 16s 2s/step - loss: 0.3099 - acc: 0.8928 - val_loss: 0.3215 - val_acc: 0.8889\n",
            "Epoch 44/100\n",
            "9/9 [==============================] - 16s 2s/step - loss: 0.3070 - acc: 0.8938 - val_loss: 0.3212 - val_acc: 0.8888\n",
            "Epoch 45/100\n",
            "9/9 [==============================] - 16s 2s/step - loss: 0.3057 - acc: 0.8946 - val_loss: 0.3191 - val_acc: 0.8901\n",
            "Epoch 46/100\n",
            "9/9 [==============================] - 16s 2s/step - loss: 0.3036 - acc: 0.8955 - val_loss: 0.3173 - val_acc: 0.8905\n",
            "Epoch 47/100\n",
            "9/9 [==============================] - 16s 2s/step - loss: 0.3008 - acc: 0.8964 - val_loss: 0.3157 - val_acc: 0.8906\n",
            "Epoch 48/100\n",
            "9/9 [==============================] - 16s 2s/step - loss: 0.2992 - acc: 0.8966 - val_loss: 0.3145 - val_acc: 0.8929\n",
            "Epoch 49/100\n",
            "9/9 [==============================] - 15s 2s/step - loss: 0.2978 - acc: 0.8972 - val_loss: 0.3158 - val_acc: 0.8913\n",
            "Epoch 50/100\n",
            "9/9 [==============================] - 15s 2s/step - loss: 0.2965 - acc: 0.8968 - val_loss: 0.3130 - val_acc: 0.8929\n",
            "Epoch 51/100\n",
            "9/9 [==============================] - 15s 2s/step - loss: 0.2955 - acc: 0.8968 - val_loss: 0.3120 - val_acc: 0.8922\n",
            "Epoch 52/100\n",
            "9/9 [==============================] - 15s 2s/step - loss: 0.2944 - acc: 0.8982 - val_loss: 0.3144 - val_acc: 0.8907\n",
            "Epoch 53/100\n",
            "9/9 [==============================] - 16s 2s/step - loss: 0.2935 - acc: 0.8974 - val_loss: 0.3106 - val_acc: 0.8917\n",
            "Epoch 54/100\n",
            "9/9 [==============================] - 15s 2s/step - loss: 0.2910 - acc: 0.8990 - val_loss: 0.3115 - val_acc: 0.8919\n",
            "Epoch 55/100\n",
            "9/9 [==============================] - 16s 2s/step - loss: 0.2899 - acc: 0.8997 - val_loss: 0.3094 - val_acc: 0.8929\n",
            "Epoch 56/100\n",
            "9/9 [==============================] - 16s 2s/step - loss: 0.2879 - acc: 0.9000 - val_loss: 0.3076 - val_acc: 0.8936\n",
            "Epoch 57/100\n",
            "9/9 [==============================] - 16s 2s/step - loss: 0.2857 - acc: 0.9012 - val_loss: 0.3067 - val_acc: 0.8929\n",
            "Epoch 58/100\n",
            "9/9 [==============================] - 16s 2s/step - loss: 0.2846 - acc: 0.9011 - val_loss: 0.3062 - val_acc: 0.8931\n",
            "Epoch 59/100\n",
            "9/9 [==============================] - 16s 2s/step - loss: 0.2845 - acc: 0.9005 - val_loss: 0.3052 - val_acc: 0.8937\n",
            "Epoch 60/100\n",
            "9/9 [==============================] - 16s 2s/step - loss: 0.2824 - acc: 0.9023 - val_loss: 0.3038 - val_acc: 0.8947\n",
            "Epoch 61/100\n",
            "9/9 [==============================] - 16s 2s/step - loss: 0.2803 - acc: 0.9025 - val_loss: 0.3020 - val_acc: 0.8958\n",
            "Epoch 62/100\n",
            "9/9 [==============================] - 16s 2s/step - loss: 0.2793 - acc: 0.9026 - val_loss: 0.3011 - val_acc: 0.8950\n",
            "Epoch 63/100\n",
            "9/9 [==============================] - 16s 2s/step - loss: 0.2776 - acc: 0.9034 - val_loss: 0.3009 - val_acc: 0.8949\n",
            "Epoch 64/100\n",
            "9/9 [==============================] - 16s 2s/step - loss: 0.2765 - acc: 0.9035 - val_loss: 0.3001 - val_acc: 0.8961\n",
            "Epoch 65/100\n",
            "9/9 [==============================] - 16s 2s/step - loss: 0.2759 - acc: 0.9044 - val_loss: 0.2996 - val_acc: 0.8959\n",
            "Epoch 66/100\n",
            "9/9 [==============================] - 16s 2s/step - loss: 0.2750 - acc: 0.9039 - val_loss: 0.3019 - val_acc: 0.8933\n",
            "Epoch 67/100\n",
            "9/9 [==============================] - 16s 2s/step - loss: 0.2751 - acc: 0.9041 - val_loss: 0.2999 - val_acc: 0.8964\n",
            "Epoch 68/100\n",
            "9/9 [==============================] - 15s 2s/step - loss: 0.2742 - acc: 0.9046 - val_loss: 0.3024 - val_acc: 0.8930\n",
            "Epoch 69/100\n",
            "9/9 [==============================] - 16s 2s/step - loss: 0.2733 - acc: 0.9043 - val_loss: 0.2970 - val_acc: 0.8967\n",
            "Epoch 70/100\n",
            "9/9 [==============================] - 16s 2s/step - loss: 0.2719 - acc: 0.9051 - val_loss: 0.2968 - val_acc: 0.8952\n",
            "Epoch 71/100\n",
            "9/9 [==============================] - 16s 2s/step - loss: 0.2701 - acc: 0.9051 - val_loss: 0.2977 - val_acc: 0.8969\n",
            "Epoch 72/100\n",
            "9/9 [==============================] - 16s 2s/step - loss: 0.2682 - acc: 0.9067 - val_loss: 0.2958 - val_acc: 0.8960\n",
            "Epoch 73/100\n",
            "9/9 [==============================] - 16s 2s/step - loss: 0.2680 - acc: 0.9064 - val_loss: 0.2958 - val_acc: 0.8974\n",
            "Epoch 74/100\n",
            "9/9 [==============================] - 16s 2s/step - loss: 0.2665 - acc: 0.9067 - val_loss: 0.2958 - val_acc: 0.8955\n",
            "Epoch 75/100\n",
            "9/9 [==============================] - 16s 2s/step - loss: 0.2658 - acc: 0.9071 - val_loss: 0.2925 - val_acc: 0.8987\n",
            "Epoch 76/100\n",
            "9/9 [==============================] - 16s 2s/step - loss: 0.2643 - acc: 0.9081 - val_loss: 0.2914 - val_acc: 0.8987\n",
            "Epoch 77/100\n",
            "9/9 [==============================] - 16s 2s/step - loss: 0.2631 - acc: 0.9078 - val_loss: 0.2925 - val_acc: 0.8972\n",
            "Epoch 78/100\n",
            "9/9 [==============================] - 16s 2s/step - loss: 0.2621 - acc: 0.9090 - val_loss: 0.2911 - val_acc: 0.8985\n",
            "Epoch 79/100\n",
            "9/9 [==============================] - 16s 2s/step - loss: 0.2619 - acc: 0.9087 - val_loss: 0.2920 - val_acc: 0.8971\n",
            "Epoch 80/100\n",
            "9/9 [==============================] - 16s 2s/step - loss: 0.2605 - acc: 0.9082 - val_loss: 0.2910 - val_acc: 0.8997\n",
            "Epoch 81/100\n",
            "9/9 [==============================] - 16s 2s/step - loss: 0.2602 - acc: 0.9093 - val_loss: 0.2900 - val_acc: 0.8984\n",
            "Epoch 82/100\n",
            "9/9 [==============================] - 16s 2s/step - loss: 0.2589 - acc: 0.9102 - val_loss: 0.2894 - val_acc: 0.8995\n",
            "Epoch 83/100\n",
            "9/9 [==============================] - 15s 2s/step - loss: 0.2580 - acc: 0.9100 - val_loss: 0.2886 - val_acc: 0.8994\n",
            "Epoch 84/100\n",
            "9/9 [==============================] - 15s 2s/step - loss: 0.2567 - acc: 0.9103 - val_loss: 0.2891 - val_acc: 0.9011\n",
            "Epoch 85/100\n",
            "9/9 [==============================] - 16s 2s/step - loss: 0.2566 - acc: 0.9103 - val_loss: 0.2906 - val_acc: 0.8975\n",
            "Epoch 86/100\n",
            "9/9 [==============================] - 16s 2s/step - loss: 0.2567 - acc: 0.9096 - val_loss: 0.2888 - val_acc: 0.9003\n",
            "Epoch 87/100\n",
            "9/9 [==============================] - 15s 2s/step - loss: 0.2567 - acc: 0.9100 - val_loss: 0.2883 - val_acc: 0.8995\n",
            "Epoch 88/100\n",
            "9/9 [==============================] - 15s 2s/step - loss: 0.2545 - acc: 0.9110 - val_loss: 0.2888 - val_acc: 0.8981\n",
            "Epoch 89/100\n",
            "9/9 [==============================] - 15s 2s/step - loss: 0.2531 - acc: 0.9115 - val_loss: 0.2865 - val_acc: 0.9016\n",
            "Epoch 90/100\n",
            "9/9 [==============================] - 15s 2s/step - loss: 0.2523 - acc: 0.9118 - val_loss: 0.2879 - val_acc: 0.8985\n",
            "Epoch 91/100\n",
            "9/9 [==============================] - 15s 2s/step - loss: 0.2514 - acc: 0.9123 - val_loss: 0.2870 - val_acc: 0.9007\n",
            "Epoch 92/100\n",
            "9/9 [==============================] - 15s 2s/step - loss: 0.2515 - acc: 0.9121 - val_loss: 0.2861 - val_acc: 0.9003\n",
            "Epoch 93/100\n",
            "9/9 [==============================] - 15s 2s/step - loss: 0.2505 - acc: 0.9124 - val_loss: 0.2861 - val_acc: 0.9000\n",
            "Epoch 94/100\n",
            "9/9 [==============================] - 15s 2s/step - loss: 0.2484 - acc: 0.9138 - val_loss: 0.2839 - val_acc: 0.9017\n",
            "Epoch 95/100\n",
            "9/9 [==============================] - 15s 2s/step - loss: 0.2477 - acc: 0.9138 - val_loss: 0.2834 - val_acc: 0.9024\n",
            "Epoch 96/100\n",
            "9/9 [==============================] - 15s 2s/step - loss: 0.2478 - acc: 0.9130 - val_loss: 0.2842 - val_acc: 0.8996\n",
            "Epoch 97/100\n",
            "9/9 [==============================] - 16s 2s/step - loss: 0.2461 - acc: 0.9148 - val_loss: 0.2826 - val_acc: 0.9030\n",
            "Epoch 98/100\n",
            "9/9 [==============================] - 15s 2s/step - loss: 0.2453 - acc: 0.9144 - val_loss: 0.2829 - val_acc: 0.9020\n",
            "Epoch 99/100\n",
            "9/9 [==============================] - 15s 2s/step - loss: 0.2445 - acc: 0.9145 - val_loss: 0.2826 - val_acc: 0.9027\n",
            "Epoch 100/100\n",
            "9/9 [==============================] - 15s 2s/step - loss: 0.2444 - acc: 0.9150 - val_loss: 0.2830 - val_acc: 0.9005\n"
          ]
        }
      ]
    },
    {
      "cell_type": "markdown",
      "source": [
        "Visualizacion de perdida en entrenamiento y testeo"
      ],
      "metadata": {
        "id": "UYo13R0F8500"
      }
    },
    {
      "cell_type": "code",
      "source": [
        "plt.plot(history.history['loss'], label = 'Perdida de Entrenamiento');\n",
        "plt.plot(history.history['val_loss'], label = 'Perdida de Testeo');\n",
        "plt.legend();"
      ],
      "metadata": {
        "colab": {
          "base_uri": "https://localhost:8080/",
          "height": 265
        },
        "id": "mOH2sgsNvi4u",
        "outputId": "c9bc061b-6427-4afc-a25e-c2c155ff736e"
      },
      "execution_count": 86,
      "outputs": [
        {
          "output_type": "display_data",
          "data": {
            "text/plain": [
              "<Figure size 432x288 with 1 Axes>"
            ],
            "image/png": "[encoded data removed]"
          },
          "metadata": {
            "needs_background": "light"
          }
        }
      ]
    },
    {
      "cell_type": "markdown",
      "source": [
        "Visualizacion de precision en entrenamiento y testeo"
      ],
      "metadata": {
        "id": "FEymqJKI8-Xg"
      }
    },
    {
      "cell_type": "code",
      "source": [
        "plt.plot(history.history['acc'], label = 'Precision de Entrenamiento');\n",
        "plt.plot(history.history['val_acc'], label = 'Precision de Testeo');\n",
        "plt.legend();"
      ],
      "metadata": {
        "colab": {
          "base_uri": "https://localhost:8080/",
          "height": 265
        },
        "id": "eHzWgsP9v5ZB",
        "outputId": "8a2fd04c-b761-4283-821c-6a3c1aa6d394"
      },
      "execution_count": 87,
      "outputs": [
        {
          "output_type": "display_data",
          "data": {
            "text/plain": [
              "<Figure size 432x288 with 1 Axes>"
            ],
            "image/png": "[encoded data removed]"
          },
          "metadata": {
            "needs_background": "light"
          }
        }
      ]
    },
    {
      "cell_type": "markdown",
      "source": [
        "Se valida el modelo"
      ],
      "metadata": {
        "id": "OSIfpMNN9Bko"
      }
    },
    {
      "cell_type": "code",
      "source": [
        "X_val = np.array(X_val).reshape(X_val.shape[0], 28, 28, 1)"
      ],
      "metadata": {
        "id": "GF7PMddxwYiz"
      },
      "execution_count": 88,
      "outputs": []
    },
    {
      "cell_type": "code",
      "source": [
        "preds = np.argmax(model.predict(X_val), axis = -1)"
      ],
      "metadata": {
        "id": "AyVmIlHpxGZL"
      },
      "execution_count": 89,
      "outputs": []
    },
    {
      "cell_type": "markdown",
      "source": [
        "Precision del modelo con datos de validacion"
      ],
      "metadata": {
        "id": "Pgr8Jrkv9DKv"
      }
    },
    {
      "cell_type": "code",
      "source": [
        "accuracy_score(y_val, preds)"
      ],
      "metadata": {
        "colab": {
          "base_uri": "https://localhost:8080/"
        },
        "id": "_5n0AOJqx5ly",
        "outputId": "b4290df1-def8-4bdd-8782-588660fd3933"
      },
      "execution_count": 90,
      "outputs": [
        {
          "output_type": "execute_result",
          "data": {
            "text/plain": [
              "0.904"
            ]
          },
          "metadata": {},
          "execution_count": 90
        }
      ]
    },
    {
      "cell_type": "markdown",
      "source": [
        "> 90,4% de precision de validacion"
      ],
      "metadata": {
        "id": "2cY4B51t9HPH"
      }
    }
  ]
}